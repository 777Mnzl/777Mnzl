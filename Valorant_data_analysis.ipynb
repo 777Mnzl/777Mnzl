{
  "nbformat": 4,
  "nbformat_minor": 0,
  "metadata": {
    "colab": {
      "provenance": [],
      "authorship_tag": "ABX9TyMZbpU2d3jKKWSlUOQBDaom",
      "include_colab_link": true
    },
    "kernelspec": {
      "name": "python3",
      "display_name": "Python 3"
    },
    "language_info": {
      "name": "python"
    }
  },
  "cells": [
    {
      "cell_type": "markdown",
      "metadata": {
        "id": "view-in-github",
        "colab_type": "text"
      },
      "source": [
        "<a href=\"https://colab.research.google.com/github/777Mnzl/777Mnzl/blob/main/Valorant_data_analysis.ipynb\" target=\"_parent\"><img src=\"https://colab.research.google.com/assets/colab-badge.svg\" alt=\"Open In Colab\"/></a>"
      ]
    },
    {
      "cell_type": "code",
      "execution_count": null,
      "metadata": {
        "id": "GvGeneYW3tiH"
      },
      "outputs": [],
      "source": [
        "import numpy as np\n",
        "import pandas as pd\n",
        "import matplotlib.pyplot as plt\n",
        "import seaborn as sns\n",
        "import plotly.express as px"
      ]
    },
    {
      "cell_type": "code",
      "source": [
        "df = pd.read_csv('/content/valorant champions istanbul.csv')"
      ],
      "metadata": {
        "id": "bvpRLXBf4b-_"
      },
      "execution_count": null,
      "outputs": []
    },
    {
      "cell_type": "code",
      "source": [
        "df.head()"
      ],
      "metadata": {
        "id": "FqHtxDvF4792",
        "colab": {
          "base_uri": "https://localhost:8080/",
          "height": 267
        },
        "outputId": "aed0a331-a9b8-43e8-8dcf-6eb0b4d36695"
      },
      "execution_count": null,
      "outputs": [
        {
          "output_type": "execute_result",
          "data": {
            "text/plain": [
              "    Player  Team Nationality  Kill  Death   K/D KAST         Prize  \\\n",
              "0     Sacy  LOUD      Brazil   147    123  1.20  76%  \\t$60,000.00   \n",
              "1  saadhak  LOUD   Argentina   150    143  1.05  76%  \\t$60,000.00   \n",
              "2  pANcada  LOUD      Brazil   169    137  1.23  81%  \\t$60,000.00   \n",
              "3     Less  LOUD      Brazil   176    134  1.31  73%  \\t$60,000.00   \n",
              "4    aspas  LOUD      Brazil   166    158  1.05  71%  \\t$60,000.00   \n",
              "\n",
              "         Role   HS %  Rounds Played  Rounds Win  Rounds Lose Rank  \n",
              "0   Initiator  25.50            222         155           67    1  \n",
              "1   Initiator  22.50            222         155           67    1  \n",
              "2  Controller  36.75            222         155           67    1  \n",
              "3    Sentinel  26.50            222         155           67    1  \n",
              "4     Duelist  26.25            222         155           67    1  "
            ],
            "text/html": [
              "\n",
              "  <div id=\"df-7a52f217-278b-4ba0-9b9f-3e64032b2253\">\n",
              "    <div class=\"colab-df-container\">\n",
              "      <div>\n",
              "<style scoped>\n",
              "    .dataframe tbody tr th:only-of-type {\n",
              "        vertical-align: middle;\n",
              "    }\n",
              "\n",
              "    .dataframe tbody tr th {\n",
              "        vertical-align: top;\n",
              "    }\n",
              "\n",
              "    .dataframe thead th {\n",
              "        text-align: right;\n",
              "    }\n",
              "</style>\n",
              "<table border=\"1\" class=\"dataframe\">\n",
              "  <thead>\n",
              "    <tr style=\"text-align: right;\">\n",
              "      <th></th>\n",
              "      <th>Player</th>\n",
              "      <th>Team</th>\n",
              "      <th>Nationality</th>\n",
              "      <th>Kill</th>\n",
              "      <th>Death</th>\n",
              "      <th>K/D</th>\n",
              "      <th>KAST</th>\n",
              "      <th>Prize</th>\n",
              "      <th>Role</th>\n",
              "      <th>HS %</th>\n",
              "      <th>Rounds Played</th>\n",
              "      <th>Rounds Win</th>\n",
              "      <th>Rounds Lose</th>\n",
              "      <th>Rank</th>\n",
              "    </tr>\n",
              "  </thead>\n",
              "  <tbody>\n",
              "    <tr>\n",
              "      <th>0</th>\n",
              "      <td>Sacy</td>\n",
              "      <td>LOUD</td>\n",
              "      <td>Brazil</td>\n",
              "      <td>147</td>\n",
              "      <td>123</td>\n",
              "      <td>1.20</td>\n",
              "      <td>76%</td>\n",
              "      <td>\\t$60,000.00</td>\n",
              "      <td>Initiator</td>\n",
              "      <td>25.50</td>\n",
              "      <td>222</td>\n",
              "      <td>155</td>\n",
              "      <td>67</td>\n",
              "      <td>1</td>\n",
              "    </tr>\n",
              "    <tr>\n",
              "      <th>1</th>\n",
              "      <td>saadhak</td>\n",
              "      <td>LOUD</td>\n",
              "      <td>Argentina</td>\n",
              "      <td>150</td>\n",
              "      <td>143</td>\n",
              "      <td>1.05</td>\n",
              "      <td>76%</td>\n",
              "      <td>\\t$60,000.00</td>\n",
              "      <td>Initiator</td>\n",
              "      <td>22.50</td>\n",
              "      <td>222</td>\n",
              "      <td>155</td>\n",
              "      <td>67</td>\n",
              "      <td>1</td>\n",
              "    </tr>\n",
              "    <tr>\n",
              "      <th>2</th>\n",
              "      <td>pANcada</td>\n",
              "      <td>LOUD</td>\n",
              "      <td>Brazil</td>\n",
              "      <td>169</td>\n",
              "      <td>137</td>\n",
              "      <td>1.23</td>\n",
              "      <td>81%</td>\n",
              "      <td>\\t$60,000.00</td>\n",
              "      <td>Controller</td>\n",
              "      <td>36.75</td>\n",
              "      <td>222</td>\n",
              "      <td>155</td>\n",
              "      <td>67</td>\n",
              "      <td>1</td>\n",
              "    </tr>\n",
              "    <tr>\n",
              "      <th>3</th>\n",
              "      <td>Less</td>\n",
              "      <td>LOUD</td>\n",
              "      <td>Brazil</td>\n",
              "      <td>176</td>\n",
              "      <td>134</td>\n",
              "      <td>1.31</td>\n",
              "      <td>73%</td>\n",
              "      <td>\\t$60,000.00</td>\n",
              "      <td>Sentinel</td>\n",
              "      <td>26.50</td>\n",
              "      <td>222</td>\n",
              "      <td>155</td>\n",
              "      <td>67</td>\n",
              "      <td>1</td>\n",
              "    </tr>\n",
              "    <tr>\n",
              "      <th>4</th>\n",
              "      <td>aspas</td>\n",
              "      <td>LOUD</td>\n",
              "      <td>Brazil</td>\n",
              "      <td>166</td>\n",
              "      <td>158</td>\n",
              "      <td>1.05</td>\n",
              "      <td>71%</td>\n",
              "      <td>\\t$60,000.00</td>\n",
              "      <td>Duelist</td>\n",
              "      <td>26.25</td>\n",
              "      <td>222</td>\n",
              "      <td>155</td>\n",
              "      <td>67</td>\n",
              "      <td>1</td>\n",
              "    </tr>\n",
              "  </tbody>\n",
              "</table>\n",
              "</div>\n",
              "      <button class=\"colab-df-convert\" onclick=\"convertToInteractive('df-7a52f217-278b-4ba0-9b9f-3e64032b2253')\"\n",
              "              title=\"Convert this dataframe to an interactive table.\"\n",
              "              style=\"display:none;\">\n",
              "        \n",
              "  <svg xmlns=\"http://www.w3.org/2000/svg\" height=\"24px\"viewBox=\"0 0 24 24\"\n",
              "       width=\"24px\">\n",
              "    <path d=\"M0 0h24v24H0V0z\" fill=\"none\"/>\n",
              "    <path d=\"M18.56 5.44l.94 2.06.94-2.06 2.06-.94-2.06-.94-.94-2.06-.94 2.06-2.06.94zm-11 1L8.5 8.5l.94-2.06 2.06-.94-2.06-.94L8.5 2.5l-.94 2.06-2.06.94zm10 10l.94 2.06.94-2.06 2.06-.94-2.06-.94-.94-2.06-.94 2.06-2.06.94z\"/><path d=\"M17.41 7.96l-1.37-1.37c-.4-.4-.92-.59-1.43-.59-.52 0-1.04.2-1.43.59L10.3 9.45l-7.72 7.72c-.78.78-.78 2.05 0 2.83L4 21.41c.39.39.9.59 1.41.59.51 0 1.02-.2 1.41-.59l7.78-7.78 2.81-2.81c.8-.78.8-2.07 0-2.86zM5.41 20L4 18.59l7.72-7.72 1.47 1.35L5.41 20z\"/>\n",
              "  </svg>\n",
              "      </button>\n",
              "      \n",
              "  <style>\n",
              "    .colab-df-container {\n",
              "      display:flex;\n",
              "      flex-wrap:wrap;\n",
              "      gap: 12px;\n",
              "    }\n",
              "\n",
              "    .colab-df-convert {\n",
              "      background-color: #E8F0FE;\n",
              "      border: none;\n",
              "      border-radius: 50%;\n",
              "      cursor: pointer;\n",
              "      display: none;\n",
              "      fill: #1967D2;\n",
              "      height: 32px;\n",
              "      padding: 0 0 0 0;\n",
              "      width: 32px;\n",
              "    }\n",
              "\n",
              "    .colab-df-convert:hover {\n",
              "      background-color: #E2EBFA;\n",
              "      box-shadow: 0px 1px 2px rgba(60, 64, 67, 0.3), 0px 1px 3px 1px rgba(60, 64, 67, 0.15);\n",
              "      fill: #174EA6;\n",
              "    }\n",
              "\n",
              "    [theme=dark] .colab-df-convert {\n",
              "      background-color: #3B4455;\n",
              "      fill: #D2E3FC;\n",
              "    }\n",
              "\n",
              "    [theme=dark] .colab-df-convert:hover {\n",
              "      background-color: #434B5C;\n",
              "      box-shadow: 0px 1px 3px 1px rgba(0, 0, 0, 0.15);\n",
              "      filter: drop-shadow(0px 1px 2px rgba(0, 0, 0, 0.3));\n",
              "      fill: #FFFFFF;\n",
              "    }\n",
              "  </style>\n",
              "\n",
              "      <script>\n",
              "        const buttonEl =\n",
              "          document.querySelector('#df-7a52f217-278b-4ba0-9b9f-3e64032b2253 button.colab-df-convert');\n",
              "        buttonEl.style.display =\n",
              "          google.colab.kernel.accessAllowed ? 'block' : 'none';\n",
              "\n",
              "        async function convertToInteractive(key) {\n",
              "          const element = document.querySelector('#df-7a52f217-278b-4ba0-9b9f-3e64032b2253');\n",
              "          const dataTable =\n",
              "            await google.colab.kernel.invokeFunction('convertToInteractive',\n",
              "                                                     [key], {});\n",
              "          if (!dataTable) return;\n",
              "\n",
              "          const docLinkHtml = 'Like what you see? Visit the ' +\n",
              "            '<a target=\"_blank\" href=https://colab.research.google.com/notebooks/data_table.ipynb>data table notebook</a>'\n",
              "            + ' to learn more about interactive tables.';\n",
              "          element.innerHTML = '';\n",
              "          dataTable['output_type'] = 'display_data';\n",
              "          await google.colab.output.renderOutput(dataTable, element);\n",
              "          const docLink = document.createElement('div');\n",
              "          docLink.innerHTML = docLinkHtml;\n",
              "          element.appendChild(docLink);\n",
              "        }\n",
              "      </script>\n",
              "    </div>\n",
              "  </div>\n",
              "  "
            ]
          },
          "metadata": {},
          "execution_count": 9
        }
      ]
    },
    {
      "cell_type": "code",
      "source": [
        "df.tail()"
      ],
      "metadata": {
        "colab": {
          "base_uri": "https://localhost:8080/",
          "height": 267
        },
        "id": "bIyhRFbM5OQH",
        "outputId": "09fa9361-3d63-4ad3-9bbd-d2b5a68da90b"
      },
      "execution_count": null,
      "outputs": [
        {
          "output_type": "execute_result",
          "data": {
            "text/plain": [
              "       Player Team Nationality  Kill  Death   K/D KAST        Prize  \\\n",
              "35      kiNgg  LEV       Chile    82     54  1.52  75%  \\t$8,000.00   \n",
              "36    adverso  LEV       Chile    59     64  0.92  70%  \\t$8,000.00   \n",
              "37     Melser  LEV       Chile    54     57  0.95  70%  \\t$8,000.00   \n",
              "38  Tacolilla  LEV       Chile    51     68  0.75  63%  \\t$8,000.00   \n",
              "39       Shyy  LEV       Chile    39     64  0.61  71%  \\t$8,000.00   \n",
              "\n",
              "         Role  HS %  Rounds Played  Rounds Win  Rounds Lose Rank  \n",
              "35       Flex  27.0             88          35           53  7,8  \n",
              "36  Initiator  22.5             88          35           53  7,8  \n",
              "37       Flex  27.5             88          35           53  7,8  \n",
              "38   Sentinel  24.0             88          35           53  7,8  \n",
              "39  Initiator  22.0             88          35           53  7,8  "
            ],
            "text/html": [
              "\n",
              "  <div id=\"df-88edfa1b-414b-4c57-b861-ddb846162f13\">\n",
              "    <div class=\"colab-df-container\">\n",
              "      <div>\n",
              "<style scoped>\n",
              "    .dataframe tbody tr th:only-of-type {\n",
              "        vertical-align: middle;\n",
              "    }\n",
              "\n",
              "    .dataframe tbody tr th {\n",
              "        vertical-align: top;\n",
              "    }\n",
              "\n",
              "    .dataframe thead th {\n",
              "        text-align: right;\n",
              "    }\n",
              "</style>\n",
              "<table border=\"1\" class=\"dataframe\">\n",
              "  <thead>\n",
              "    <tr style=\"text-align: right;\">\n",
              "      <th></th>\n",
              "      <th>Player</th>\n",
              "      <th>Team</th>\n",
              "      <th>Nationality</th>\n",
              "      <th>Kill</th>\n",
              "      <th>Death</th>\n",
              "      <th>K/D</th>\n",
              "      <th>KAST</th>\n",
              "      <th>Prize</th>\n",
              "      <th>Role</th>\n",
              "      <th>HS %</th>\n",
              "      <th>Rounds Played</th>\n",
              "      <th>Rounds Win</th>\n",
              "      <th>Rounds Lose</th>\n",
              "      <th>Rank</th>\n",
              "    </tr>\n",
              "  </thead>\n",
              "  <tbody>\n",
              "    <tr>\n",
              "      <th>35</th>\n",
              "      <td>kiNgg</td>\n",
              "      <td>LEV</td>\n",
              "      <td>Chile</td>\n",
              "      <td>82</td>\n",
              "      <td>54</td>\n",
              "      <td>1.52</td>\n",
              "      <td>75%</td>\n",
              "      <td>\\t$8,000.00</td>\n",
              "      <td>Flex</td>\n",
              "      <td>27.0</td>\n",
              "      <td>88</td>\n",
              "      <td>35</td>\n",
              "      <td>53</td>\n",
              "      <td>7,8</td>\n",
              "    </tr>\n",
              "    <tr>\n",
              "      <th>36</th>\n",
              "      <td>adverso</td>\n",
              "      <td>LEV</td>\n",
              "      <td>Chile</td>\n",
              "      <td>59</td>\n",
              "      <td>64</td>\n",
              "      <td>0.92</td>\n",
              "      <td>70%</td>\n",
              "      <td>\\t$8,000.00</td>\n",
              "      <td>Initiator</td>\n",
              "      <td>22.5</td>\n",
              "      <td>88</td>\n",
              "      <td>35</td>\n",
              "      <td>53</td>\n",
              "      <td>7,8</td>\n",
              "    </tr>\n",
              "    <tr>\n",
              "      <th>37</th>\n",
              "      <td>Melser</td>\n",
              "      <td>LEV</td>\n",
              "      <td>Chile</td>\n",
              "      <td>54</td>\n",
              "      <td>57</td>\n",
              "      <td>0.95</td>\n",
              "      <td>70%</td>\n",
              "      <td>\\t$8,000.00</td>\n",
              "      <td>Flex</td>\n",
              "      <td>27.5</td>\n",
              "      <td>88</td>\n",
              "      <td>35</td>\n",
              "      <td>53</td>\n",
              "      <td>7,8</td>\n",
              "    </tr>\n",
              "    <tr>\n",
              "      <th>38</th>\n",
              "      <td>Tacolilla</td>\n",
              "      <td>LEV</td>\n",
              "      <td>Chile</td>\n",
              "      <td>51</td>\n",
              "      <td>68</td>\n",
              "      <td>0.75</td>\n",
              "      <td>63%</td>\n",
              "      <td>\\t$8,000.00</td>\n",
              "      <td>Sentinel</td>\n",
              "      <td>24.0</td>\n",
              "      <td>88</td>\n",
              "      <td>35</td>\n",
              "      <td>53</td>\n",
              "      <td>7,8</td>\n",
              "    </tr>\n",
              "    <tr>\n",
              "      <th>39</th>\n",
              "      <td>Shyy</td>\n",
              "      <td>LEV</td>\n",
              "      <td>Chile</td>\n",
              "      <td>39</td>\n",
              "      <td>64</td>\n",
              "      <td>0.61</td>\n",
              "      <td>71%</td>\n",
              "      <td>\\t$8,000.00</td>\n",
              "      <td>Initiator</td>\n",
              "      <td>22.0</td>\n",
              "      <td>88</td>\n",
              "      <td>35</td>\n",
              "      <td>53</td>\n",
              "      <td>7,8</td>\n",
              "    </tr>\n",
              "  </tbody>\n",
              "</table>\n",
              "</div>\n",
              "      <button class=\"colab-df-convert\" onclick=\"convertToInteractive('df-88edfa1b-414b-4c57-b861-ddb846162f13')\"\n",
              "              title=\"Convert this dataframe to an interactive table.\"\n",
              "              style=\"display:none;\">\n",
              "        \n",
              "  <svg xmlns=\"http://www.w3.org/2000/svg\" height=\"24px\"viewBox=\"0 0 24 24\"\n",
              "       width=\"24px\">\n",
              "    <path d=\"M0 0h24v24H0V0z\" fill=\"none\"/>\n",
              "    <path d=\"M18.56 5.44l.94 2.06.94-2.06 2.06-.94-2.06-.94-.94-2.06-.94 2.06-2.06.94zm-11 1L8.5 8.5l.94-2.06 2.06-.94-2.06-.94L8.5 2.5l-.94 2.06-2.06.94zm10 10l.94 2.06.94-2.06 2.06-.94-2.06-.94-.94-2.06-.94 2.06-2.06.94z\"/><path d=\"M17.41 7.96l-1.37-1.37c-.4-.4-.92-.59-1.43-.59-.52 0-1.04.2-1.43.59L10.3 9.45l-7.72 7.72c-.78.78-.78 2.05 0 2.83L4 21.41c.39.39.9.59 1.41.59.51 0 1.02-.2 1.41-.59l7.78-7.78 2.81-2.81c.8-.78.8-2.07 0-2.86zM5.41 20L4 18.59l7.72-7.72 1.47 1.35L5.41 20z\"/>\n",
              "  </svg>\n",
              "      </button>\n",
              "      \n",
              "  <style>\n",
              "    .colab-df-container {\n",
              "      display:flex;\n",
              "      flex-wrap:wrap;\n",
              "      gap: 12px;\n",
              "    }\n",
              "\n",
              "    .colab-df-convert {\n",
              "      background-color: #E8F0FE;\n",
              "      border: none;\n",
              "      border-radius: 50%;\n",
              "      cursor: pointer;\n",
              "      display: none;\n",
              "      fill: #1967D2;\n",
              "      height: 32px;\n",
              "      padding: 0 0 0 0;\n",
              "      width: 32px;\n",
              "    }\n",
              "\n",
              "    .colab-df-convert:hover {\n",
              "      background-color: #E2EBFA;\n",
              "      box-shadow: 0px 1px 2px rgba(60, 64, 67, 0.3), 0px 1px 3px 1px rgba(60, 64, 67, 0.15);\n",
              "      fill: #174EA6;\n",
              "    }\n",
              "\n",
              "    [theme=dark] .colab-df-convert {\n",
              "      background-color: #3B4455;\n",
              "      fill: #D2E3FC;\n",
              "    }\n",
              "\n",
              "    [theme=dark] .colab-df-convert:hover {\n",
              "      background-color: #434B5C;\n",
              "      box-shadow: 0px 1px 3px 1px rgba(0, 0, 0, 0.15);\n",
              "      filter: drop-shadow(0px 1px 2px rgba(0, 0, 0, 0.3));\n",
              "      fill: #FFFFFF;\n",
              "    }\n",
              "  </style>\n",
              "\n",
              "      <script>\n",
              "        const buttonEl =\n",
              "          document.querySelector('#df-88edfa1b-414b-4c57-b861-ddb846162f13 button.colab-df-convert');\n",
              "        buttonEl.style.display =\n",
              "          google.colab.kernel.accessAllowed ? 'block' : 'none';\n",
              "\n",
              "        async function convertToInteractive(key) {\n",
              "          const element = document.querySelector('#df-88edfa1b-414b-4c57-b861-ddb846162f13');\n",
              "          const dataTable =\n",
              "            await google.colab.kernel.invokeFunction('convertToInteractive',\n",
              "                                                     [key], {});\n",
              "          if (!dataTable) return;\n",
              "\n",
              "          const docLinkHtml = 'Like what you see? Visit the ' +\n",
              "            '<a target=\"_blank\" href=https://colab.research.google.com/notebooks/data_table.ipynb>data table notebook</a>'\n",
              "            + ' to learn more about interactive tables.';\n",
              "          element.innerHTML = '';\n",
              "          dataTable['output_type'] = 'display_data';\n",
              "          await google.colab.output.renderOutput(dataTable, element);\n",
              "          const docLink = document.createElement('div');\n",
              "          docLink.innerHTML = docLinkHtml;\n",
              "          element.appendChild(docLink);\n",
              "        }\n",
              "      </script>\n",
              "    </div>\n",
              "  </div>\n",
              "  "
            ]
          },
          "metadata": {},
          "execution_count": 10
        }
      ]
    },
    {
      "cell_type": "code",
      "source": [
        "df.info()"
      ],
      "metadata": {
        "colab": {
          "base_uri": "https://localhost:8080/"
        },
        "id": "NJaBn72-5SoS",
        "outputId": "6f77390a-8740-4dfe-b717-c12254fb305e"
      },
      "execution_count": null,
      "outputs": [
        {
          "output_type": "stream",
          "name": "stdout",
          "text": [
            "<class 'pandas.core.frame.DataFrame'>\n",
            "RangeIndex: 40 entries, 0 to 39\n",
            "Data columns (total 14 columns):\n",
            " #   Column         Non-Null Count  Dtype  \n",
            "---  ------         --------------  -----  \n",
            " 0   Player         40 non-null     object \n",
            " 1   Team           40 non-null     object \n",
            " 2   Nationality    40 non-null     object \n",
            " 3   Kill           40 non-null     int64  \n",
            " 4   Death          40 non-null     int64  \n",
            " 5   K/D            40 non-null     float64\n",
            " 6   KAST           40 non-null     object \n",
            " 7   Prize          40 non-null     object \n",
            " 8   Role           40 non-null     object \n",
            " 9   HS %           40 non-null     float64\n",
            " 10  Rounds Played  40 non-null     int64  \n",
            " 11  Rounds Win     40 non-null     int64  \n",
            " 12  Rounds Lose    40 non-null     int64  \n",
            " 13  Rank           40 non-null     object \n",
            "dtypes: float64(2), int64(5), object(7)\n",
            "memory usage: 4.5+ KB\n"
          ]
        }
      ]
    },
    {
      "cell_type": "code",
      "source": [],
      "metadata": {
        "id": "slOU9leD5cb5"
      },
      "execution_count": null,
      "outputs": []
    },
    {
      "cell_type": "code",
      "source": [
        "df.isna().sum()"
      ],
      "metadata": {
        "colab": {
          "base_uri": "https://localhost:8080/"
        },
        "id": "-RoAvui25fPg",
        "outputId": "ba98c568-5a55-442e-d010-5deb69a6c937"
      },
      "execution_count": null,
      "outputs": [
        {
          "output_type": "execute_result",
          "data": {
            "text/plain": [
              "Player           0\n",
              "Team             0\n",
              "Nationality      0\n",
              "Kill             0\n",
              "Death            0\n",
              "K/D              0\n",
              "KAST             0\n",
              "Prize            0\n",
              "Role             0\n",
              "HS %             0\n",
              "Rounds Played    0\n",
              "Rounds Win       0\n",
              "Rounds Lose      0\n",
              "Rank             0\n",
              "dtype: int64"
            ]
          },
          "metadata": {},
          "execution_count": 12
        }
      ]
    },
    {
      "cell_type": "code",
      "source": [
        "df.corr()"
      ],
      "metadata": {
        "colab": {
          "base_uri": "https://localhost:8080/",
          "height": 323
        },
        "id": "L9XKe0x45oZR",
        "outputId": "05a8546c-a14b-40b9-cd11-c6e262c48f34"
      },
      "execution_count": null,
      "outputs": [
        {
          "output_type": "stream",
          "name": "stderr",
          "text": [
            "<ipython-input-13-2f6f6606aa2c>:1: FutureWarning: The default value of numeric_only in DataFrame.corr is deprecated. In a future version, it will default to False. Select only valid columns or specify the value of numeric_only to silence this warning.\n",
            "  df.corr()\n"
          ]
        },
        {
          "output_type": "execute_result",
          "data": {
            "text/plain": [
              "                   Kill     Death       K/D      HS %  Rounds Played  \\\n",
              "Kill           1.000000  0.905112  0.394385  0.106398       0.933555   \n",
              "Death          0.905112  1.000000  0.014958  0.070879       0.978085   \n",
              "K/D            0.394385  0.014958  1.000000  0.067249       0.138445   \n",
              "HS %           0.106398  0.070879  0.067249  1.000000       0.058541   \n",
              "Rounds Played  0.933555  0.978085  0.138445  0.058541       1.000000   \n",
              "Rounds Win     0.888123  0.889952  0.215021  0.102347       0.933529   \n",
              "Rounds Lose    0.850645  0.932919  0.040441  0.005347       0.929507   \n",
              "\n",
              "               Rounds Win  Rounds Lose  \n",
              "Kill             0.888123     0.850645  \n",
              "Death            0.889952     0.932919  \n",
              "K/D              0.215021     0.040441  \n",
              "HS %             0.102347     0.005347  \n",
              "Rounds Played    0.933529     0.929507  \n",
              "Rounds Win       1.000000     0.735503  \n",
              "Rounds Lose      0.735503     1.000000  "
            ],
            "text/html": [
              "\n",
              "  <div id=\"df-2159d43f-e7b3-4491-9c12-3dae4396f5a7\">\n",
              "    <div class=\"colab-df-container\">\n",
              "      <div>\n",
              "<style scoped>\n",
              "    .dataframe tbody tr th:only-of-type {\n",
              "        vertical-align: middle;\n",
              "    }\n",
              "\n",
              "    .dataframe tbody tr th {\n",
              "        vertical-align: top;\n",
              "    }\n",
              "\n",
              "    .dataframe thead th {\n",
              "        text-align: right;\n",
              "    }\n",
              "</style>\n",
              "<table border=\"1\" class=\"dataframe\">\n",
              "  <thead>\n",
              "    <tr style=\"text-align: right;\">\n",
              "      <th></th>\n",
              "      <th>Kill</th>\n",
              "      <th>Death</th>\n",
              "      <th>K/D</th>\n",
              "      <th>HS %</th>\n",
              "      <th>Rounds Played</th>\n",
              "      <th>Rounds Win</th>\n",
              "      <th>Rounds Lose</th>\n",
              "    </tr>\n",
              "  </thead>\n",
              "  <tbody>\n",
              "    <tr>\n",
              "      <th>Kill</th>\n",
              "      <td>1.000000</td>\n",
              "      <td>0.905112</td>\n",
              "      <td>0.394385</td>\n",
              "      <td>0.106398</td>\n",
              "      <td>0.933555</td>\n",
              "      <td>0.888123</td>\n",
              "      <td>0.850645</td>\n",
              "    </tr>\n",
              "    <tr>\n",
              "      <th>Death</th>\n",
              "      <td>0.905112</td>\n",
              "      <td>1.000000</td>\n",
              "      <td>0.014958</td>\n",
              "      <td>0.070879</td>\n",
              "      <td>0.978085</td>\n",
              "      <td>0.889952</td>\n",
              "      <td>0.932919</td>\n",
              "    </tr>\n",
              "    <tr>\n",
              "      <th>K/D</th>\n",
              "      <td>0.394385</td>\n",
              "      <td>0.014958</td>\n",
              "      <td>1.000000</td>\n",
              "      <td>0.067249</td>\n",
              "      <td>0.138445</td>\n",
              "      <td>0.215021</td>\n",
              "      <td>0.040441</td>\n",
              "    </tr>\n",
              "    <tr>\n",
              "      <th>HS %</th>\n",
              "      <td>0.106398</td>\n",
              "      <td>0.070879</td>\n",
              "      <td>0.067249</td>\n",
              "      <td>1.000000</td>\n",
              "      <td>0.058541</td>\n",
              "      <td>0.102347</td>\n",
              "      <td>0.005347</td>\n",
              "    </tr>\n",
              "    <tr>\n",
              "      <th>Rounds Played</th>\n",
              "      <td>0.933555</td>\n",
              "      <td>0.978085</td>\n",
              "      <td>0.138445</td>\n",
              "      <td>0.058541</td>\n",
              "      <td>1.000000</td>\n",
              "      <td>0.933529</td>\n",
              "      <td>0.929507</td>\n",
              "    </tr>\n",
              "    <tr>\n",
              "      <th>Rounds Win</th>\n",
              "      <td>0.888123</td>\n",
              "      <td>0.889952</td>\n",
              "      <td>0.215021</td>\n",
              "      <td>0.102347</td>\n",
              "      <td>0.933529</td>\n",
              "      <td>1.000000</td>\n",
              "      <td>0.735503</td>\n",
              "    </tr>\n",
              "    <tr>\n",
              "      <th>Rounds Lose</th>\n",
              "      <td>0.850645</td>\n",
              "      <td>0.932919</td>\n",
              "      <td>0.040441</td>\n",
              "      <td>0.005347</td>\n",
              "      <td>0.929507</td>\n",
              "      <td>0.735503</td>\n",
              "      <td>1.000000</td>\n",
              "    </tr>\n",
              "  </tbody>\n",
              "</table>\n",
              "</div>\n",
              "      <button class=\"colab-df-convert\" onclick=\"convertToInteractive('df-2159d43f-e7b3-4491-9c12-3dae4396f5a7')\"\n",
              "              title=\"Convert this dataframe to an interactive table.\"\n",
              "              style=\"display:none;\">\n",
              "        \n",
              "  <svg xmlns=\"http://www.w3.org/2000/svg\" height=\"24px\"viewBox=\"0 0 24 24\"\n",
              "       width=\"24px\">\n",
              "    <path d=\"M0 0h24v24H0V0z\" fill=\"none\"/>\n",
              "    <path d=\"M18.56 5.44l.94 2.06.94-2.06 2.06-.94-2.06-.94-.94-2.06-.94 2.06-2.06.94zm-11 1L8.5 8.5l.94-2.06 2.06-.94-2.06-.94L8.5 2.5l-.94 2.06-2.06.94zm10 10l.94 2.06.94-2.06 2.06-.94-2.06-.94-.94-2.06-.94 2.06-2.06.94z\"/><path d=\"M17.41 7.96l-1.37-1.37c-.4-.4-.92-.59-1.43-.59-.52 0-1.04.2-1.43.59L10.3 9.45l-7.72 7.72c-.78.78-.78 2.05 0 2.83L4 21.41c.39.39.9.59 1.41.59.51 0 1.02-.2 1.41-.59l7.78-7.78 2.81-2.81c.8-.78.8-2.07 0-2.86zM5.41 20L4 18.59l7.72-7.72 1.47 1.35L5.41 20z\"/>\n",
              "  </svg>\n",
              "      </button>\n",
              "      \n",
              "  <style>\n",
              "    .colab-df-container {\n",
              "      display:flex;\n",
              "      flex-wrap:wrap;\n",
              "      gap: 12px;\n",
              "    }\n",
              "\n",
              "    .colab-df-convert {\n",
              "      background-color: #E8F0FE;\n",
              "      border: none;\n",
              "      border-radius: 50%;\n",
              "      cursor: pointer;\n",
              "      display: none;\n",
              "      fill: #1967D2;\n",
              "      height: 32px;\n",
              "      padding: 0 0 0 0;\n",
              "      width: 32px;\n",
              "    }\n",
              "\n",
              "    .colab-df-convert:hover {\n",
              "      background-color: #E2EBFA;\n",
              "      box-shadow: 0px 1px 2px rgba(60, 64, 67, 0.3), 0px 1px 3px 1px rgba(60, 64, 67, 0.15);\n",
              "      fill: #174EA6;\n",
              "    }\n",
              "\n",
              "    [theme=dark] .colab-df-convert {\n",
              "      background-color: #3B4455;\n",
              "      fill: #D2E3FC;\n",
              "    }\n",
              "\n",
              "    [theme=dark] .colab-df-convert:hover {\n",
              "      background-color: #434B5C;\n",
              "      box-shadow: 0px 1px 3px 1px rgba(0, 0, 0, 0.15);\n",
              "      filter: drop-shadow(0px 1px 2px rgba(0, 0, 0, 0.3));\n",
              "      fill: #FFFFFF;\n",
              "    }\n",
              "  </style>\n",
              "\n",
              "      <script>\n",
              "        const buttonEl =\n",
              "          document.querySelector('#df-2159d43f-e7b3-4491-9c12-3dae4396f5a7 button.colab-df-convert');\n",
              "        buttonEl.style.display =\n",
              "          google.colab.kernel.accessAllowed ? 'block' : 'none';\n",
              "\n",
              "        async function convertToInteractive(key) {\n",
              "          const element = document.querySelector('#df-2159d43f-e7b3-4491-9c12-3dae4396f5a7');\n",
              "          const dataTable =\n",
              "            await google.colab.kernel.invokeFunction('convertToInteractive',\n",
              "                                                     [key], {});\n",
              "          if (!dataTable) return;\n",
              "\n",
              "          const docLinkHtml = 'Like what you see? Visit the ' +\n",
              "            '<a target=\"_blank\" href=https://colab.research.google.com/notebooks/data_table.ipynb>data table notebook</a>'\n",
              "            + ' to learn more about interactive tables.';\n",
              "          element.innerHTML = '';\n",
              "          dataTable['output_type'] = 'display_data';\n",
              "          await google.colab.output.renderOutput(dataTable, element);\n",
              "          const docLink = document.createElement('div');\n",
              "          docLink.innerHTML = docLinkHtml;\n",
              "          element.appendChild(docLink);\n",
              "        }\n",
              "      </script>\n",
              "    </div>\n",
              "  </div>\n",
              "  "
            ]
          },
          "metadata": {},
          "execution_count": 13
        }
      ]
    },
    {
      "cell_type": "code",
      "source": [
        "plt.figure(figsize = (5,3))\n",
        "sns.heatmap(df.isna().transpose())"
      ],
      "metadata": {
        "colab": {
          "base_uri": "https://localhost:8080/",
          "height": 317
        },
        "id": "H4J3QXYc5sCO",
        "outputId": "3d564f24-743d-438a-909a-1252a7663a7a"
      },
      "execution_count": null,
      "outputs": [
        {
          "output_type": "execute_result",
          "data": {
            "text/plain": [
              "<Axes: >"
            ]
          },
          "metadata": {},
          "execution_count": 14
        },
        {
          "output_type": "display_data",
          "data": {
            "text/plain": [
              "<Figure size 500x300 with 2 Axes>"
            ],
            "image/png": "[encoded data removed]"
          },
          "metadata": {}
        }
      ]
    },
    {
      "cell_type": "code",
      "source": [
        "sns.heatmap(df.corr(), annot = True)"
      ],
      "metadata": {
        "colab": {
          "base_uri": "https://localhost:8080/",
          "height": 595
        },
        "id": "mAETWmyM5vTf",
        "outputId": "727d92d9-a42c-4d21-9a62-73030e9b7039"
      },
      "execution_count": null,
      "outputs": [
        {
          "output_type": "stream",
          "name": "stderr",
          "text": [
            "<ipython-input-15-fe43fffaf13b>:1: FutureWarning: The default value of numeric_only in DataFrame.corr is deprecated. In a future version, it will default to False. Select only valid columns or specify the value of numeric_only to silence this warning.\n",
            "  sns.heatmap(df.corr(), annot = True)\n"
          ]
        },
        {
          "output_type": "execute_result",
          "data": {
            "text/plain": [
              "<Axes: >"
            ]
          },
          "metadata": {},
          "execution_count": 15
        },
        {
          "output_type": "display_data",
          "data": {
            "text/plain": [
              "<Figure size 640x480 with 2 Axes>"
            ],
            "image/png": "[encoded data removed]"
          },
          "metadata": {}
        }
      ]
    },
    {
      "cell_type": "code",
      "source": [],
      "metadata": {
        "id": "7yv-N7sM6uxg"
      },
      "execution_count": null,
      "outputs": []
    },
    {
      "cell_type": "code",
      "source": [
        "sns.barplot(x = X, y = Y)"
      ],
      "metadata": {
        "colab": {
          "base_uri": "https://localhost:8080/",
          "height": 467
        },
        "id": "Cycf6yuM7SWq",
        "outputId": "b0ccf9f1-a050-4bc6-db2a-04df837f6406"
      },
      "execution_count": null,
      "outputs": [
        {
          "output_type": "execute_result",
          "data": {
            "text/plain": [
              "<Axes: xlabel='Kill', ylabel='Player'>"
            ]
          },
          "metadata": {},
          "execution_count": 17
        },
        {
          "output_type": "display_data",
          "data": {
            "text/plain": [
              "<Figure size 640x480 with 1 Axes>"
            ],
            "image/png": "[encoded data removed]"
          },
          "metadata": {}
        }
      ]
    },
    {
      "cell_type": "code",
      "source": [
        "df.shape"
      ],
      "metadata": {
        "id": "04lYBU8z7WVy",
        "colab": {
          "base_uri": "https://localhost:8080/"
        },
        "outputId": "a67bed0e-2c80-49fa-f7bc-a14dd694aa09"
      },
      "execution_count": null,
      "outputs": [
        {
          "output_type": "execute_result",
          "data": {
            "text/plain": [
              "(40, 14)"
            ]
          },
          "metadata": {},
          "execution_count": 18
        }
      ]
    },
    {
      "cell_type": "code",
      "source": [
        "df.info()"
      ],
      "metadata": {
        "id": "ajGtv_sY78fS",
        "colab": {
          "base_uri": "https://localhost:8080/"
        },
        "outputId": "e5a11a4a-c5e9-4727-8b92-16000d3fda3c"
      },
      "execution_count": null,
      "outputs": [
        {
          "output_type": "stream",
          "name": "stdout",
          "text": [
            "<class 'pandas.core.frame.DataFrame'>\n",
            "RangeIndex: 40 entries, 0 to 39\n",
            "Data columns (total 14 columns):\n",
            " #   Column         Non-Null Count  Dtype  \n",
            "---  ------         --------------  -----  \n",
            " 0   Player         40 non-null     object \n",
            " 1   Team           40 non-null     object \n",
            " 2   Nationality    40 non-null     object \n",
            " 3   Kill           40 non-null     int64  \n",
            " 4   Death          40 non-null     int64  \n",
            " 5   K/D            40 non-null     float64\n",
            " 6   KAST           40 non-null     object \n",
            " 7   Prize          40 non-null     object \n",
            " 8   Role           40 non-null     object \n",
            " 9   HS %           40 non-null     float64\n",
            " 10  Rounds Played  40 non-null     int64  \n",
            " 11  Rounds Win     40 non-null     int64  \n",
            " 12  Rounds Lose    40 non-null     int64  \n",
            " 13  Rank           40 non-null     object \n",
            "dtypes: float64(2), int64(5), object(7)\n",
            "memory usage: 4.5+ KB\n"
          ]
        }
      ]
    },
    {
      "cell_type": "code",
      "source": [
        "df.isna().sum()"
      ],
      "metadata": {
        "colab": {
          "base_uri": "https://localhost:8080/"
        },
        "id": "FdN0SUDJGM3p",
        "outputId": "db52a26f-0829-4907-dea5-07049f4ada39"
      },
      "execution_count": null,
      "outputs": [
        {
          "output_type": "execute_result",
          "data": {
            "text/plain": [
              "Player           0\n",
              "Team             0\n",
              "Nationality      0\n",
              "Kill             0\n",
              "Death            0\n",
              "K/D              0\n",
              "KAST             0\n",
              "Prize            0\n",
              "Role             0\n",
              "HS %             0\n",
              "Rounds Played    0\n",
              "Rounds Win       0\n",
              "Rounds Lose      0\n",
              "Rank             0\n",
              "dtype: int64"
            ]
          },
          "metadata": {},
          "execution_count": 25
        }
      ]
    },
    {
      "cell_type": "code",
      "source": [
        "df.columns.tolist()"
      ],
      "metadata": {
        "colab": {
          "base_uri": "https://localhost:8080/"
        },
        "id": "auNE2jtdGg1T",
        "outputId": "e00bf27e-bfb5-4c32-86d6-2e15609c9258"
      },
      "execution_count": null,
      "outputs": [
        {
          "output_type": "execute_result",
          "data": {
            "text/plain": [
              "['Player',\n",
              " 'Team',\n",
              " 'Nationality',\n",
              " 'Kill',\n",
              " 'Death',\n",
              " 'K/D',\n",
              " 'KAST',\n",
              " 'Prize',\n",
              " 'Role',\n",
              " 'HS %',\n",
              " 'Rounds Played',\n",
              " 'Rounds Win',\n",
              " 'Rounds Lose',\n",
              " 'Rank']"
            ]
          },
          "metadata": {},
          "execution_count": 27
        }
      ]
    },
    {
      "cell_type": "code",
      "source": [
        "sns.countplot(x = 'Role', data = df)"
      ],
      "metadata": {
        "colab": {
          "base_uri": "https://localhost:8080/",
          "height": 466
        },
        "id": "4Og9yK6iGSlW",
        "outputId": "18669d8c-0f61-4284-859a-821ad38a56e3"
      },
      "execution_count": null,
      "outputs": [
        {
          "output_type": "execute_result",
          "data": {
            "text/plain": [
              "<Axes: xlabel='Role', ylabel='count'>"
            ]
          },
          "metadata": {},
          "execution_count": 30
        },
        {
          "output_type": "display_data",
          "data": {
            "text/plain": [
              "<Figure size 640x480 with 1 Axes>"
            ],
            "image/png": "[encoded data removed]"
          },
          "metadata": {}
        }
      ]
    },
    {
      "cell_type": "code",
      "source": [
        "plt.figure (figsize = (5,3))\n",
        "plt.show()\n",
        "sns.countplot(x = 'Prize', data = df)\n"
      ],
      "metadata": {
        "colab": {
          "base_uri": "https://localhost:8080/",
          "height": 573
        },
        "id": "fwrPJRBRGThL",
        "outputId": "3bf75f30-0a89-4d70-c36f-311606e9c628"
      },
      "execution_count": null,
      "outputs": [
        {
          "output_type": "display_data",
          "data": {
            "text/plain": [
              "<Figure size 500x300 with 0 Axes>"
            ]
          },
          "metadata": {}
        },
        {
          "output_type": "execute_result",
          "data": {
            "text/plain": [
              "<Axes: xlabel='Prize', ylabel='count'>"
            ]
          },
          "metadata": {},
          "execution_count": 33
        },
        {
          "output_type": "stream",
          "name": "stderr",
          "text": [
            "/usr/local/lib/python3.10/dist-packages/IPython/core/events.py:89: UserWarning: Glyph 9 (\t) missing from current font.\n",
            "  func(*args, **kwargs)\n",
            "/usr/local/lib/python3.10/dist-packages/IPython/core/pylabtools.py:151: UserWarning: Glyph 9 (\t) missing from current font.\n",
            "  fig.canvas.print_figure(bytes_io, **kw)\n"
          ]
        },
        {
          "output_type": "display_data",
          "data": {
            "text/plain": [
              "<Figure size 640x480 with 1 Axes>"
            ],
            "image/png": "[encoded data removed]"
          },
          "metadata": {}
        }
      ]
    },
    {
      "cell_type": "code",
      "source": [
        "df['Kill'].value_counts()/len(df)"
      ],
      "metadata": {
        "colab": {
          "base_uri": "https://localhost:8080/"
        },
        "id": "UNNX55EhG25t",
        "outputId": "cd347408-a0bb-4569-f02a-56641b3397f7"
      },
      "execution_count": null,
      "outputs": [
        {
          "output_type": "execute_result",
          "data": {
            "text/plain": [
              "147    0.050\n",
              "54     0.050\n",
              "192    0.050\n",
              "85     0.025\n",
              "156    0.025\n",
              "107    0.025\n",
              "121    0.025\n",
              "93     0.025\n",
              "115    0.025\n",
              "92     0.025\n",
              "60     0.025\n",
              "135    0.025\n",
              "61     0.025\n",
              "69     0.025\n",
              "63     0.025\n",
              "82     0.025\n",
              "59     0.025\n",
              "51     0.025\n",
              "119    0.025\n",
              "99     0.025\n",
              "150    0.025\n",
              "238    0.025\n",
              "169    0.025\n",
              "176    0.025\n",
              "166    0.025\n",
              "334    0.025\n",
              "240    0.025\n",
              "247    0.025\n",
              "188    0.025\n",
              "130    0.025\n",
              "224    0.025\n",
              "235    0.025\n",
              "205    0.025\n",
              "171    0.025\n",
              "178    0.025\n",
              "153    0.025\n",
              "39     0.025\n",
              "Name: Kill, dtype: float64"
            ]
          },
          "metadata": {},
          "execution_count": 37
        }
      ]
    },
    {
      "cell_type": "code",
      "source": [
        "import plotly.express as px\n",
        "fig = px.pie(names = df['Role'].value_counts())\n",
        "fig.update_layout(width = 400, height = 250)"
      ],
      "metadata": {
        "colab": {
          "base_uri": "https://localhost:8080/",
          "height": 267
        },
        "id": "omI9-yM-HORG",
        "outputId": "a5c6dd4e-f914-44da-805f-a79e419708fa"
      },
      "execution_count": null,
      "outputs": [
        {
          "output_type": "display_data",
          "data": {
            "text/html": [
              "<html>\n",
              "<head><meta charset=\"utf-8\" /></head>\n",
              "<body>\n",
              "    <div>            <script src=\"https://cdnjs.cloudflare.com/ajax/libs/mathjax/2.7.5/MathJax.js?config=TeX-AMS-MML_SVG\"></script><script type=\"text/javascript\">if (window.MathJax && window.MathJax.Hub && window.MathJax.Hub.Config) {window.MathJax.Hub.Config({SVG: {font: \"STIX-Web\"}});}</script>                <script type=\"text/javascript\">window.PlotlyConfig = {MathJaxConfig: 'local'};</script>\n",
              "        <script src=\"https://cdn.plot.ly/plotly-2.18.2.min.js\"></script>                <div id=\"89e2811a-588b-4d7a-a01a-6c69a4b19464\" class=\"plotly-graph-div\" style=\"height:250px; width:400px;\"></div>            <script type=\"text/javascript\">                                    window.PLOTLYENV=window.PLOTLYENV || {};                                    if (document.getElementById(\"89e2811a-588b-4d7a-a01a-6c69a4b19464\")) {                    Plotly.newPlot(                        \"89e2811a-588b-4d7a-a01a-6c69a4b19464\",                        [{\"domain\":{\"x\":[0.0,1.0],\"y\":[0.0,1.0]},\"hovertemplate\":\"label=%{label}<extra></extra>\",\"labels\":[14,9,6,6,5],\"legendgroup\":\"\",\"name\":\"\",\"showlegend\":true,\"type\":\"pie\"}],                        {\"template\":{\"data\":{\"histogram2dcontour\":[{\"type\":\"histogram2dcontour\",\"colorbar\":{\"outlinewidth\":0,\"ticks\":\"\"},\"colorscale\":[[0.0,\"#0d0887\"],[0.1111111111111111,\"#46039f\"],[0.2222222222222222,\"#7201a8\"],[0.3333333333333333,\"#9c179e\"],[0.4444444444444444,\"#bd3786\"],[0.5555555555555556,\"#d8576b\"],[0.6666666666666666,\"#ed7953\"],[0.7777777777777778,\"#fb9f3a\"],[0.8888888888888888,\"#fdca26\"],[1.0,\"#f0f921\"]]}],\"choropleth\":[{\"type\":\"choropleth\",\"colorbar\":{\"outlinewidth\":0,\"ticks\":\"\"}}],\"histogram2d\":[{\"type\":\"histogram2d\",\"colorbar\":{\"outlinewidth\":0,\"ticks\":\"\"},\"colorscale\":[[0.0,\"#0d0887\"],[0.1111111111111111,\"#46039f\"],[0.2222222222222222,\"#7201a8\"],[0.3333333333333333,\"#9c179e\"],[0.4444444444444444,\"#bd3786\"],[0.5555555555555556,\"#d8576b\"],[0.6666666666666666,\"#ed7953\"],[0.7777777777777778,\"#fb9f3a\"],[0.8888888888888888,\"#fdca26\"],[1.0,\"#f0f921\"]]}],\"heatmap\":[{\"type\":\"heatmap\",\"colorbar\":{\"outlinewidth\":0,\"ticks\":\"\"},\"colorscale\":[[0.0,\"#0d0887\"],[0.1111111111111111,\"#46039f\"],[0.2222222222222222,\"#7201a8\"],[0.3333333333333333,\"#9c179e\"],[0.4444444444444444,\"#bd3786\"],[0.5555555555555556,\"#d8576b\"],[0.6666666666666666,\"#ed7953\"],[0.7777777777777778,\"#fb9f3a\"],[0.8888888888888888,\"#fdca26\"],[1.0,\"#f0f921\"]]}],\"heatmapgl\":[{\"type\":\"heatmapgl\",\"colorbar\":{\"outlinewidth\":0,\"ticks\":\"\"},\"colorscale\":[[0.0,\"#0d0887\"],[0.1111111111111111,\"#46039f\"],[0.2222222222222222,\"#7201a8\"],[0.3333333333333333,\"#9c179e\"],[0.4444444444444444,\"#bd3786\"],[0.5555555555555556,\"#d8576b\"],[0.6666666666666666,\"#ed7953\"],[0.7777777777777778,\"#fb9f3a\"],[0.8888888888888888,\"#fdca26\"],[1.0,\"#f0f921\"]]}],\"contourcarpet\":[{\"type\":\"contourcarpet\",\"colorbar\":{\"outlinewidth\":0,\"ticks\":\"\"}}],\"contour\":[{\"type\":\"contour\",\"colorbar\":{\"outlinewidth\":0,\"ticks\":\"\"},\"colorscale\":[[0.0,\"#0d0887\"],[0.1111111111111111,\"#46039f\"],[0.2222222222222222,\"#7201a8\"],[0.3333333333333333,\"#9c179e\"],[0.4444444444444444,\"#bd3786\"],[0.5555555555555556,\"#d8576b\"],[0.6666666666666666,\"#ed7953\"],[0.7777777777777778,\"#fb9f3a\"],[0.8888888888888888,\"#fdca26\"],[1.0,\"#f0f921\"]]}],\"surface\":[{\"type\":\"surface\",\"colorbar\":{\"outlinewidth\":0,\"ticks\":\"\"},\"colorscale\":[[0.0,\"#0d0887\"],[0.1111111111111111,\"#46039f\"],[0.2222222222222222,\"#7201a8\"],[0.3333333333333333,\"#9c179e\"],[0.4444444444444444,\"#bd3786\"],[0.5555555555555556,\"#d8576b\"],[0.6666666666666666,\"#ed7953\"],[0.7777777777777778,\"#fb9f3a\"],[0.8888888888888888,\"#fdca26\"],[1.0,\"#f0f921\"]]}],\"mesh3d\":[{\"type\":\"mesh3d\",\"colorbar\":{\"outlinewidth\":0,\"ticks\":\"\"}}],\"scatter\":[{\"fillpattern\":{\"fillmode\":\"overlay\",\"size\":10,\"solidity\":0.2},\"type\":\"scatter\"}],\"parcoords\":[{\"type\":\"parcoords\",\"line\":{\"colorbar\":{\"outlinewidth\":0,\"ticks\":\"\"}}}],\"scatterpolargl\":[{\"type\":\"scatterpolargl\",\"marker\":{\"colorbar\":{\"outlinewidth\":0,\"ticks\":\"\"}}}],\"bar\":[{\"error_x\":{\"color\":\"#2a3f5f\"},\"error_y\":{\"color\":\"#2a3f5f\"},\"marker\":{\"line\":{\"color\":\"#E5ECF6\",\"width\":0.5},\"pattern\":{\"fillmode\":\"overlay\",\"size\":10,\"solidity\":0.2}},\"type\":\"bar\"}],\"scattergeo\":[{\"type\":\"scattergeo\",\"marker\":{\"colorbar\":{\"outlinewidth\":0,\"ticks\":\"\"}}}],\"scatterpolar\":[{\"type\":\"scatterpolar\",\"marker\":{\"colorbar\":{\"outlinewidth\":0,\"ticks\":\"\"}}}],\"histogram\":[{\"marker\":{\"pattern\":{\"fillmode\":\"overlay\",\"size\":10,\"solidity\":0.2}},\"type\":\"histogram\"}],\"scattergl\":[{\"type\":\"scattergl\",\"marker\":{\"colorbar\":{\"outlinewidth\":0,\"ticks\":\"\"}}}],\"scatter3d\":[{\"type\":\"scatter3d\",\"line\":{\"colorbar\":{\"outlinewidth\":0,\"ticks\":\"\"}},\"marker\":{\"colorbar\":{\"outlinewidth\":0,\"ticks\":\"\"}}}],\"scattermapbox\":[{\"type\":\"scattermapbox\",\"marker\":{\"colorbar\":{\"outlinewidth\":0,\"ticks\":\"\"}}}],\"scatterternary\":[{\"type\":\"scatterternary\",\"marker\":{\"colorbar\":{\"outlinewidth\":0,\"ticks\":\"\"}}}],\"scattercarpet\":[{\"type\":\"scattercarpet\",\"marker\":{\"colorbar\":{\"outlinewidth\":0,\"ticks\":\"\"}}}],\"carpet\":[{\"aaxis\":{\"endlinecolor\":\"#2a3f5f\",\"gridcolor\":\"white\",\"linecolor\":\"white\",\"minorgridcolor\":\"white\",\"startlinecolor\":\"#2a3f5f\"},\"baxis\":{\"endlinecolor\":\"#2a3f5f\",\"gridcolor\":\"white\",\"linecolor\":\"white\",\"minorgridcolor\":\"white\",\"startlinecolor\":\"#2a3f5f\"},\"type\":\"carpet\"}],\"table\":[{\"cells\":{\"fill\":{\"color\":\"#EBF0F8\"},\"line\":{\"color\":\"white\"}},\"header\":{\"fill\":{\"color\":\"#C8D4E3\"},\"line\":{\"color\":\"white\"}},\"type\":\"table\"}],\"barpolar\":[{\"marker\":{\"line\":{\"color\":\"#E5ECF6\",\"width\":0.5},\"pattern\":{\"fillmode\":\"overlay\",\"size\":10,\"solidity\":0.2}},\"type\":\"barpolar\"}],\"pie\":[{\"automargin\":true,\"type\":\"pie\"}]},\"layout\":{\"autotypenumbers\":\"strict\",\"colorway\":[\"#636efa\",\"#EF553B\",\"#00cc96\",\"#ab63fa\",\"#FFA15A\",\"#19d3f3\",\"#FF6692\",\"#B6E880\",\"#FF97FF\",\"#FECB52\"],\"font\":{\"color\":\"#2a3f5f\"},\"hovermode\":\"closest\",\"hoverlabel\":{\"align\":\"left\"},\"paper_bgcolor\":\"white\",\"plot_bgcolor\":\"#E5ECF6\",\"polar\":{\"bgcolor\":\"#E5ECF6\",\"angularaxis\":{\"gridcolor\":\"white\",\"linecolor\":\"white\",\"ticks\":\"\"},\"radialaxis\":{\"gridcolor\":\"white\",\"linecolor\":\"white\",\"ticks\":\"\"}},\"ternary\":{\"bgcolor\":\"#E5ECF6\",\"aaxis\":{\"gridcolor\":\"white\",\"linecolor\":\"white\",\"ticks\":\"\"},\"baxis\":{\"gridcolor\":\"white\",\"linecolor\":\"white\",\"ticks\":\"\"},\"caxis\":{\"gridcolor\":\"white\",\"linecolor\":\"white\",\"ticks\":\"\"}},\"coloraxis\":{\"colorbar\":{\"outlinewidth\":0,\"ticks\":\"\"}},\"colorscale\":{\"sequential\":[[0.0,\"#0d0887\"],[0.1111111111111111,\"#46039f\"],[0.2222222222222222,\"#7201a8\"],[0.3333333333333333,\"#9c179e\"],[0.4444444444444444,\"#bd3786\"],[0.5555555555555556,\"#d8576b\"],[0.6666666666666666,\"#ed7953\"],[0.7777777777777778,\"#fb9f3a\"],[0.8888888888888888,\"#fdca26\"],[1.0,\"#f0f921\"]],\"sequentialminus\":[[0.0,\"#0d0887\"],[0.1111111111111111,\"#46039f\"],[0.2222222222222222,\"#7201a8\"],[0.3333333333333333,\"#9c179e\"],[0.4444444444444444,\"#bd3786\"],[0.5555555555555556,\"#d8576b\"],[0.6666666666666666,\"#ed7953\"],[0.7777777777777778,\"#fb9f3a\"],[0.8888888888888888,\"#fdca26\"],[1.0,\"#f0f921\"]],\"diverging\":[[0,\"#8e0152\"],[0.1,\"#c51b7d\"],[0.2,\"#de77ae\"],[0.3,\"#f1b6da\"],[0.4,\"#fde0ef\"],[0.5,\"#f7f7f7\"],[0.6,\"#e6f5d0\"],[0.7,\"#b8e186\"],[0.8,\"#7fbc41\"],[0.9,\"#4d9221\"],[1,\"#276419\"]]},\"xaxis\":{\"gridcolor\":\"white\",\"linecolor\":\"white\",\"ticks\":\"\",\"title\":{\"standoff\":15},\"zerolinecolor\":\"white\",\"automargin\":true,\"zerolinewidth\":2},\"yaxis\":{\"gridcolor\":\"white\",\"linecolor\":\"white\",\"ticks\":\"\",\"title\":{\"standoff\":15},\"zerolinecolor\":\"white\",\"automargin\":true,\"zerolinewidth\":2},\"scene\":{\"xaxis\":{\"backgroundcolor\":\"#E5ECF6\",\"gridcolor\":\"white\",\"linecolor\":\"white\",\"showbackground\":true,\"ticks\":\"\",\"zerolinecolor\":\"white\",\"gridwidth\":2},\"yaxis\":{\"backgroundcolor\":\"#E5ECF6\",\"gridcolor\":\"white\",\"linecolor\":\"white\",\"showbackground\":true,\"ticks\":\"\",\"zerolinecolor\":\"white\",\"gridwidth\":2},\"zaxis\":{\"backgroundcolor\":\"#E5ECF6\",\"gridcolor\":\"white\",\"linecolor\":\"white\",\"showbackground\":true,\"ticks\":\"\",\"zerolinecolor\":\"white\",\"gridwidth\":2}},\"shapedefaults\":{\"line\":{\"color\":\"#2a3f5f\"}},\"annotationdefaults\":{\"arrowcolor\":\"#2a3f5f\",\"arrowhead\":0,\"arrowwidth\":1},\"geo\":{\"bgcolor\":\"white\",\"landcolor\":\"#E5ECF6\",\"subunitcolor\":\"white\",\"showland\":true,\"showlakes\":true,\"lakecolor\":\"white\"},\"title\":{\"x\":0.05},\"mapbox\":{\"style\":\"light\"}}},\"legend\":{\"tracegroupgap\":0},\"margin\":{\"t\":60},\"width\":400,\"height\":250},                        {\"responsive\": true}                    ).then(function(){\n",
              "                            \n",
              "var gd = document.getElementById('89e2811a-588b-4d7a-a01a-6c69a4b19464');\n",
              "var x = new MutationObserver(function (mutations, observer) {{\n",
              "        var display = window.getComputedStyle(gd).display;\n",
              "        if (!display || display === 'none') {{\n",
              "            console.log([gd, 'removed!']);\n",
              "            Plotly.purge(gd);\n",
              "            observer.disconnect();\n",
              "        }}\n",
              "}});\n",
              "\n",
              "// Listen for the removal of the full notebook cells\n",
              "var notebookContainer = gd.closest('#notebook-container');\n",
              "if (notebookContainer) {{\n",
              "    x.observe(notebookContainer, {childList: true});\n",
              "}}\n",
              "\n",
              "// Listen for the clearing of the current output cell\n",
              "var outputEl = gd.closest('.output');\n",
              "if (outputEl) {{\n",
              "    x.observe(outputEl, {childList: true});\n",
              "}}\n",
              "\n",
              "                        })                };                            </script>        </div>\n",
              "</body>\n",
              "</html>"
            ]
          },
          "metadata": {}
        }
      ]
    },
    {
      "cell_type": "code",
      "source": [
        "sns.countplot(x = 'Role', data = df)"
      ],
      "metadata": {
        "colab": {
          "base_uri": "https://localhost:8080/",
          "height": 466
        },
        "id": "NePpRUOmHd3Q",
        "outputId": "90c3def8-9305-40b5-a110-3b016662891d"
      },
      "execution_count": null,
      "outputs": [
        {
          "output_type": "execute_result",
          "data": {
            "text/plain": [
              "<Axes: xlabel='Role', ylabel='count'>"
            ]
          },
          "metadata": {},
          "execution_count": 52
        },
        {
          "output_type": "display_data",
          "data": {
            "text/plain": [
              "<Figure size 640x480 with 1 Axes>"
            ],
            "image/png": "[encoded data removed]"
          },
          "metadata": {}
        }
      ]
    },
    {
      "cell_type": "markdown",
      "source": [
        "## is there a relationship between roles and kills?\n"
      ],
      "metadata": {
        "id": "OePY19ieIe5T"
      }
    },
    {
      "cell_type": "code",
      "source": [
        "sns.countplot(x = 'Role', hue = 'Prize', data = df)"
      ],
      "metadata": {
        "colab": {
          "base_uri": "https://localhost:8080/",
          "height": 588
        },
        "id": "1EyAYdG5IIN5",
        "outputId": "eebfbd88-b8cd-47bc-ad4d-63e5ad0aee9a"
      },
      "execution_count": null,
      "outputs": [
        {
          "output_type": "execute_result",
          "data": {
            "text/plain": [
              "<Axes: xlabel='Role', ylabel='count'>"
            ]
          },
          "metadata": {},
          "execution_count": 56
        },
        {
          "output_type": "stream",
          "name": "stderr",
          "text": [
            "/usr/local/lib/python3.10/dist-packages/IPython/core/events.py:89: UserWarning:\n",
            "\n",
            "Glyph 9 (\t) missing from current font.\n",
            "\n",
            "/usr/local/lib/python3.10/dist-packages/IPython/core/pylabtools.py:151: UserWarning:\n",
            "\n",
            "Glyph 9 (\t) missing from current font.\n",
            "\n"
          ]
        },
        {
          "output_type": "display_data",
          "data": {
            "text/plain": [
              "<Figure size 640x480 with 1 Axes>"
            ],
            "image/png": "[encoded data removed]"
          },
          "metadata": {}
        }
      ]
    },
    {
      "cell_type": "markdown",
      "source": [
        "from this data we can observe 8 players has earned 12,000 dollars from flex role and\n",
        "in iniator 2 player has earned 60,000 dollars and so on....\n"
      ],
      "metadata": {
        "id": "yFxHm2KvI-cM"
      }
    },
    {
      "cell_type": "code",
      "source": [
        "df.columns.tolist()"
      ],
      "metadata": {
        "colab": {
          "base_uri": "https://localhost:8080/"
        },
        "id": "12AnIPl4IosR",
        "outputId": "face828b-33f9-4cd0-e0dd-6ef6e246763d"
      },
      "execution_count": null,
      "outputs": [
        {
          "output_type": "execute_result",
          "data": {
            "text/plain": [
              "['Player',\n",
              " 'Team',\n",
              " 'Nationality',\n",
              " 'Kill',\n",
              " 'Death',\n",
              " 'K/D',\n",
              " 'KAST',\n",
              " 'Prize',\n",
              " 'Role',\n",
              " 'HS %',\n",
              " 'Rounds Played',\n",
              " 'Rounds Win',\n",
              " 'Rounds Lose',\n",
              " 'Rank']"
            ]
          },
          "metadata": {},
          "execution_count": 54
        }
      ]
    },
    {
      "cell_type": "code",
      "source": [
        "df.groupby('Player').Kill.mean() #mean of each players kill"
      ],
      "metadata": {
        "colab": {
          "base_uri": "https://localhost:8080/"
        },
        "id": "PvrHLFuRIw_t",
        "outputId": "46b6a0c6-3a4a-4b0a-b5e2-aa770de7ef09"
      },
      "execution_count": null,
      "outputs": [
        {
          "output_type": "execute_result",
          "data": {
            "text/plain": [
              "Player\n",
              "ANGE1         99.0\n",
              "AYRIN        135.0\n",
              "Alfajer      115.0\n",
              "BcJ          119.0\n",
              "Boaster       92.0\n",
              "BuZz         235.0\n",
              "Cryocells    156.0\n",
              "Derke        147.0\n",
              "Enzo          93.0\n",
              "FNS          188.0\n",
              "Jamppi        61.0\n",
              "Less         176.0\n",
              "MaKo         224.0\n",
              "Marved       240.0\n",
              "Melser        54.0\n",
              "Mistic        85.0\n",
              "Nivera        60.0\n",
              "Rb           192.0\n",
              "SUYGETSU     153.0\n",
              "Sacy         147.0\n",
              "Scream        69.0\n",
              "Shao         130.0\n",
              "Shyy          39.0\n",
              "Tacolilla     51.0\n",
              "Victor       247.0\n",
              "Zest         205.0\n",
              "Zyppan       171.0\n",
              "adverso       59.0\n",
              "ardiis       178.0\n",
              "aspas        166.0\n",
              "crashies     238.0\n",
              "dephh        107.0\n",
              "dimasick      54.0\n",
              "kiNgg         82.0\n",
              "pANcada      169.0\n",
              "saadhak      150.0\n",
              "soulcas       63.0\n",
              "stax         192.0\n",
              "yay          334.0\n",
              "zekken       121.0\n",
              "Name: Kill, dtype: float64"
            ]
          },
          "metadata": {},
          "execution_count": 61
        }
      ]
    },
    {
      "cell_type": "code",
      "source": [
        "df.groupby('Team').Kill.mean()"
      ],
      "metadata": {
        "colab": {
          "base_uri": "https://localhost:8080/"
        },
        "id": "QVP8g4jWJgFK",
        "outputId": "bd188e3a-9894-4591-81f9-58fe1d4c2c4c"
      },
      "execution_count": null,
      "outputs": [
        {
          "output_type": "execute_result",
          "data": {
            "text/plain": [
              "Team\n",
              "DRX     209.6\n",
              "FNC     106.4\n",
              "FPX     146.2\n",
              "LEV      57.0\n",
              "LOUD    161.6\n",
              "OPTC    249.4\n",
              "TL       61.4\n",
              "XSET    127.6\n",
              "Name: Kill, dtype: float64"
            ]
          },
          "metadata": {},
          "execution_count": 66
        }
      ]
    },
    {
      "cell_type": "code",
      "source": [
        "df.groupby('Team').Kill.median()"
      ],
      "metadata": {
        "colab": {
          "base_uri": "https://localhost:8080/"
        },
        "id": "2zD1hZVGJ3_C",
        "outputId": "d95cd866-f4d0-4527-ed28-65c8f4588f61"
      },
      "execution_count": null,
      "outputs": [
        {
          "output_type": "execute_result",
          "data": {
            "text/plain": [
              "Team\n",
              "DRX     205.0\n",
              "FNC      93.0\n",
              "FPX     153.0\n",
              "LEV      54.0\n",
              "LOUD    166.0\n",
              "OPTC    240.0\n",
              "TL       61.0\n",
              "XSET    121.0\n",
              "Name: Kill, dtype: float64"
            ]
          },
          "metadata": {},
          "execution_count": 67
        }
      ]
    },
    {
      "cell_type": "code",
      "source": [
        "sns.scatterplot(df.groupby('Team').Kill.mean(), color = 'red')"
      ],
      "metadata": {
        "colab": {
          "base_uri": "https://localhost:8080/",
          "height": 466
        },
        "id": "HuZZL-HFKSo6",
        "outputId": "83226374-c0cc-4168-fb30-8a3b7ef027dc"
      },
      "execution_count": null,
      "outputs": [
        {
          "output_type": "execute_result",
          "data": {
            "text/plain": [
              "<Axes: xlabel='Team', ylabel='Kill'>"
            ]
          },
          "metadata": {},
          "execution_count": 76
        },
        {
          "output_type": "display_data",
          "data": {
            "text/plain": [
              "<Figure size 640x480 with 1 Axes>"
            ],
            "image/png": "[encoded data removed]"
          },
          "metadata": {}
        }
      ]
    },
    {
      "cell_type": "code",
      "source": [],
      "metadata": {
        "id": "3E57gg7UKaKz"
      },
      "execution_count": null,
      "outputs": []
    },
    {
      "cell_type": "code",
      "source": [],
      "metadata": {
        "id": "uDH8kkqtMo79"
      },
      "execution_count": null,
      "outputs": []
    }
  ]
}